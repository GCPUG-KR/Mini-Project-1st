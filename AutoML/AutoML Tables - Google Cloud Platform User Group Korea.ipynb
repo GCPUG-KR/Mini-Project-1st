{
 "cells": [
  {
   "cell_type": "code",
   "execution_count": null,
   "metadata": {},
   "outputs": [],
   "source": [
    "# GCP IAM에서 서비스 어카운트를 생성한 후 Create key 버튼을 통해 다운로드한 키 파일 경로가 필요합니다.\n",
    "# GCP IAM에서 해당 서비스 어카운트에 AutoML admin 권한을 부여해야 합니다.\n",
    "keyfile = '/Users/roy/blah/key.json'\n",
    "%env GOOGLE_APPLICATION_CREDENTIALS $keyfile\n",
    "! gcloud auth activate-service-account --key-file $keyfile"
   ]
  },
  {
   "cell_type": "code",
   "execution_count": null,
   "metadata": {},
   "outputs": [],
   "source": [
    "# GCP 프로젝트 아이디를 기입합니다.\n",
    "PROJECT_ID = \"\"\n",
    "\n",
    "COMPUTE_REGION = \"us-central1\"\n",
    "\n",
    "# AutoML 관련 정보\n",
    "# AutoML 내부에서 생성할 데이터셋과 모델의 이름을 지정합니다.\n",
    "AUTOML_DATASET = \"house_price\"\n",
    "AUTOML_MODEL = \"house_price_roy\"\n",
    "# AutoML Tables에서 모델을 학습시킬 시간 단위의 값으로 integer 형태의 값을 입력해야 합니다.\n",
    "AUTOML_TRAIN_HOUR = 1\n",
    "\n",
    "# Google Cloud Storage 관련 정보\n",
    "# 학습시키거나 테스트할 데이터에 대한 CSV 파일 정보를 입력합니다.\n",
    "GCS_BUCKET = \"roy-automl\"\n",
    "GCS_DIR = \"house_price\"\n",
    "GCS_TRAIN_DATA = \"{}/train.csv\".format(GCS_DIR)\n",
    "GCS_TEST_DATA = \"{}/test.csv\".format(GCS_DIR)\n",
    "\n",
    "# GCS에 업로드한 CSV 내용 가운데 지도학습 레이블이 될 컬럼을 지정합니다.\n",
    "# 지도 학습 레이블 컬럼을 지정하면 해당 컬럼의 타입에 따라 어떤 머신러닝 모델을 써서 문제를 풀지 AutoML이 자동으로 결정합니다.\n",
    "TARGET_COLUMN = \"SalePrice\""
   ]
  },
  {
   "cell_type": "code",
   "execution_count": null,
   "metadata": {},
   "outputs": [],
   "source": [
    "from __future__ import absolute_import\n",
    "from __future__ import division\n",
    "from __future__ import print_function"
   ]
  },
  {
   "cell_type": "code",
   "execution_count": null,
   "metadata": {},
   "outputs": [],
   "source": [
    "# !pip install google-cloud-automl"
   ]
  },
  {
   "cell_type": "code",
   "execution_count": null,
   "metadata": {},
   "outputs": [],
   "source": [
    "from google.cloud import automl_v1beta1 as automl"
   ]
  },
  {
   "cell_type": "code",
   "execution_count": null,
   "metadata": {},
   "outputs": [],
   "source": [
    "automl_client = automl.AutoMlClient()\n",
    "tables_client = automl.TablesClient(project=PROJECT_ID, region=COMPUTE_REGION)"
   ]
  },
  {
   "cell_type": "code",
   "execution_count": null,
   "metadata": {},
   "outputs": [],
   "source": [
    "dataset = tables_client.create_dataset(dataset_display_name=AUTOML_DATASET)"
   ]
  },
  {
   "cell_type": "code",
   "execution_count": null,
   "metadata": {},
   "outputs": [],
   "source": [
    "GCS_TRAIN_DATA_URL = 'gs://{}/{}'.format(GCS_BUCKET, GCS_TRAIN_DATA)\n",
    "GCS_TEST_DATA_URL = 'gs://{}/{}'.format(GCS_BUCKET, GCS_TEST_DATA)"
   ]
  },
  {
   "cell_type": "code",
   "execution_count": null,
   "metadata": {},
   "outputs": [],
   "source": [
    "# 학습 데이터 로딩\n",
    "response_importing_gcs_data = tables_client.import_data(\n",
    "    dataset=dataset,\n",
    "    gcs_input_uris=GCS_TRAIN_DATA_URL\n",
    ")"
   ]
  },
  {
   "cell_type": "code",
   "execution_count": null,
   "metadata": {},
   "outputs": [],
   "source": [
    "print('Importing GCS data to AutoML Tables.. ', response_importing_gcs_data.result())"
   ]
  },
  {
   "cell_type": "code",
   "execution_count": null,
   "metadata": {},
   "outputs": [],
   "source": [
    "data_specified_notnull = tables_client.update_column_spec(\n",
    "    dataset=dataset,\n",
    "    column_spec_display_name=TARGET_COLUMN,\n",
    "    nullable=False\n",
    ")"
   ]
  },
  {
   "cell_type": "code",
   "execution_count": null,
   "metadata": {},
   "outputs": [],
   "source": [
    "data_specified_label = tables_client.set_target_column(\n",
    "    dataset=dataset,\n",
    "    column_spec_display_name=TARGET_COLUMN,\n",
    ")"
   ]
  },
  {
   "cell_type": "code",
   "execution_count": null,
   "metadata": {},
   "outputs": [],
   "source": [
    "# 모델 학습\n",
    "create_model_response = tables_client.create_model(\n",
    "    AUTOML_MODEL,\n",
    "    dataset=dataset,\n",
    "    train_budget_milli_node_hours=AUTOML_TRAIN_HOUR*1000,\n",
    ")"
   ]
  },
  {
   "cell_type": "code",
   "execution_count": null,
   "metadata": {},
   "outputs": [],
   "source": [
    "model = create_model_response.result()\n",
    "model_name = model.name"
   ]
  },
  {
   "cell_type": "code",
   "execution_count": null,
   "metadata": {},
   "outputs": [],
   "source": [
    "# 학습한 모델로 예측\n",
    "prediction_response = tables_client.batch_predict(\n",
    "    model=model, \n",
    "    gcs_input_uris=GCS_TEST_DATA_URL,\n",
    "    gcs_output_uri_prefix='gs://{}/{}'.format(GCS_BUCKET, GCS_DIR)\n",
    ")"
   ]
  },
  {
   "cell_type": "code",
   "execution_count": null,
   "metadata": {},
   "outputs": [],
   "source": [
    "print('Prediction result : ', prediction_response.result())"
   ]
  }
 ],
 "metadata": {
  "kernelspec": {
   "display_name": "Python 3",
   "language": "python",
   "name": "python3"
  },
  "language_info": {
   "codemirror_mode": {
    "name": "ipython",
    "version": 3
   },
   "file_extension": ".py",
   "mimetype": "text/x-python",
   "name": "python",
   "nbconvert_exporter": "python",
   "pygments_lexer": "ipython3",
   "version": "3.7.6"
  }
 },
 "nbformat": 4,
 "nbformat_minor": 4
}
